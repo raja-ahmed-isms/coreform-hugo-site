{
 "cells": [
  {
   "cell_type": "markdown",
   "metadata": {},
   "source": [
    "# Coreform DAGMC Model Preparation and Export Tutorial\n",
    "# About this tutorial\n",
    "In this tutorial we will learn to prepare models for application in particle transport codes with the Direct Accelerated Monte Carlo ([DAGMC](https://svalinn.github.io/DAGMC/)) toolkit. To start, we’ll model a simple PWR fuel pin composed of three concentric cylinders representing the fuel pin, gap, and cladding and with a surrounding rectangular prism (brick) containing a water moderator.  We'll then look at a more complex example: a tokamak reactor.\n",
    "\n",
    "# PWR Fuel Pin\n",
    "\n",
    "## Creating the geometry\n",
    "To begin, we’ll create the three cylinders with radii 0.39 cm, 0.4 cm, and 0.45 cm for the outer radii fuel pin, gap, and cladding respectively. The prism for the water moderator will have a width of 1.26 cm. True fuel pins are typically 120-200 cm in length, but we’ll model a 10 cm pin in this tutorial for clear visualization. "
   ]
  },
  {
   "cell_type": "code",
   "execution_count": 45,
   "metadata": {},
   "outputs": [],
   "source": [
    "import os\n",
    "import sys\n",
    "path_to_cubit = \"/home/gvernon2/cubit/build_lin64/bin/Release\"\n",
    "sys.path.append( path_to_cubit )\n",
    "import cubit\n",
    "# cubit.init( ['cubit', '-driver', 'offscreen'] )\n",
    "cubit.init( ['cubit', '-driver', 'offscreen', \"-noecho\", \"-nojournal\" ] )"
   ]
  },
  {
   "cell_type": "code",
   "execution_count": 46,
   "metadata": {},
   "outputs": [
    {
     "name": "stdout",
     "output_type": "stream",
     "text": [
      "...deleting 7071 tris from database...\n",
      "...deleting 10379 edges from database...\n",
      "...deleting 3323 nodes from database...\n",
      "Successfully created cylinder volume 1 \n",
      "Successfully created cylinder volume 2 \n",
      "Successfully created cylinder volume 3 \n",
      "Successfully created brick volume 4 \n",
      "Created volume(s): 5\n",
      "Updated volume(s): 4\n",
      "Destroyed volume(s): 5\n",
      "Created volume(s): 6\n",
      "Updated volume(s): 3\n",
      "Destroyed volume(s): 6\n",
      "Created volume(s): 7\n",
      "Updated volume(s): 2\n",
      "Destroyed volume(s): 7\n",
      "\n",
      "...Merging all features in the model\n",
      "\n",
      "...Merging all Surfaces in the model\n",
      "Comparing Surfaces:\n",
      "Comparing 18 Surfaces for Merge\n",
      "0   |    |    |    |    50   |    |    |    |  100\n",
      "**************************************************\n",
      "Consolidated 3 pairs of surfaces\n",
      "\n",
      "...Merging all Curves in the model\n",
      "Consolidated 0 curves\n",
      "\n",
      "...Merging all Vertices in the model\n",
      "Consolidated 0 pairs of vertices\n",
      "All detected matches successfully merged\n"
     ]
    },
    {
     "data": {
      "text/plain": [
       "True"
      ]
     },
     "execution_count": 46,
     "metadata": {},
     "output_type": "execute_result"
    }
   ],
   "source": [
    "cubit.cmd( \"reset\" )\n",
    "cubit.cmd( \"create cylinder radius 0.39 height 10\" )\n",
    "cubit.cmd( \"create cylinder radius 0.4 height 10\" )\n",
    "cubit.cmd( \"create cylinder radius 0.45 height 10\" )\n",
    "cubit.cmd( \"create brick x 1.26 y 1.26 z 10\" )\n",
    "\n",
    "cubit.cmd( \"remove overlap volume 3 4 modify volume 4\" )\n",
    "cubit.cmd( \"remove overlap volume 2 3 modify volume 3\" )\n",
    "cubit.cmd( \"remove overlap volume 1 2 modify volume 2\" )\n",
    "cubit.cmd( \"merge all\" )\n",
    "\n",
    "cubit.cmd( \"compress ids\" )"
   ]
  },
  {
   "cell_type": "code",
   "execution_count": 47,
   "metadata": {},
   "outputs": [
    {
     "data": {
      "text/plain": [
       "True"
      ]
     },
     "execution_count": 47,
     "metadata": {},
     "output_type": "execute_result"
    }
   ],
   "source": [
    "cubit.cmd( \"graphics mode smoothshade\" )\n",
    "cubit.cmd( \"color background white\" )\n",
    "cubit.cmd( \"color global surface default curve black vertex black\" )\n",
    "cubit.cmd( \"color lines black\" )\n",
    "cubit.cmd( \"graphics window create 2\" )\n",
    "cubit.cmd( \"graphics window active 2\" )\n",
    "cubit.cmd( \"graphics windowsize 1400 830\" )\n",
    "cubit.cmd( \"graphics perspective off\" )\n",
    "cubit.cmd( \"graphics parallel scale  2.3631991\" )\n",
    "cubit.cmd( \"from  9.2355914  4.0805371  17.177804\" )\n",
    "cubit.cmd( \"at   -0.26665172 -0.12275284  0.17364335\" )\n",
    "cubit.cmd( \"up   -0.15953435  0.97542554 -0.15196647\" )\n",
    "cubit.cmd( f\"hardcopy '{os.path.join( os.getcwd(), 'images', 'pwr_geometry_overview.png' )}' png window 2\" )"
   ]
  },
  {
   "cell_type": "markdown",
   "metadata": {},
   "source": [
    "\n",
    "<img src=\"./images/pwr_geometry_overview.png\" width=600>\n",
    "\n",
    "This model contains the geometry as described above with the appropriate volumes subtracted from one another to produce the fuel, gap, cladding, and moderator regions. Our task will be to prepare the geometry for export by ensuring that the faces of coincident volumes are shared (merged), mesh the model, and that the appropriate material and boundary conditions have been applied.\n",
    "\n",
    "## Checking the geometry\n",
    "In order to move particles robustly from volume to volume, DAGMC requires that coincident volumes share surfaces. DAGMC leverages this topological information in the resulting triangle mesh file to change the particle’s logical containment from one volume to the other when a particle crosses the triangle of a shared surface.\n",
    "\n"
   ]
  },
  {
   "cell_type": "code",
   "execution_count": 48,
   "metadata": {},
   "outputs": [
    {
     "data": {
      "text/plain": [
       "True"
      ]
     },
     "execution_count": 48,
     "metadata": {},
     "output_type": "execute_result"
    }
   ],
   "source": [
    "cubit.cmd( \"surface 8 9 visibility off\" )\n",
    "cubit.cmd( f\"hardcopy '{os.path.join( os.getcwd(), 'images', 'pwr_geometry_internal_view.png' )}' png window 2\" )"
   ]
  },
  {
   "cell_type": "markdown",
   "metadata": {},
   "source": [
    "<img src=\"./images/pwr_geometry_internal_view.png\" width=600>\n",
    "\n",
    "\n",
    "By examining the model tree (see below image), we can see that adjacent volumes do in fact share surfaces. In the image of the tree, we see that `volume 4` (cyan) shares `surface 5` with `volume 3` (pink). By nature of the final volumes in this model resulting from subtractions of other volumes, this topological consistency is guaranteed. This is not always the case, however, and as we will see later in the tutorial we may need to imprint prior to merging the model before moving on to metadata.\n",
    "\n",
    "<img src=\"./images/pwr_geometry_model_tree_shared_surfaces.png\" width=300>"
   ]
  },
  {
   "cell_type": "markdown",
   "metadata": {},
   "source": [
    "\n",
    "## Assigning Materials and Boundary Conditions\n",
    "\n",
    "A DAGMC model requires that all volumes have a material assignment, including void regions. To assign a material in Cubit we will create a block for each material in the model. Blocks can be created and the surface mesh of a volume assigned to the block with the following commands\n",
    "\n",
    "```\n",
    "create block 1\n",
    "block 1 add volume 1\n",
    "```\n",
    "\n",
    "And a material can be created and added to this block with the following\n",
    "\n",
    "\n",
    "```\n",
    "create material 1 name \"fuel\"\n",
    "block 1 material \"fuel\"\n",
    "```\n",
    "\n",
    "The block creation and volume assignment can be combined into one command as well\n",
    "\n",
    "```\n",
    "block 1 volume 1\n",
    "```\n",
    "\n",
    "Now we’ll repeat this for volumes `2`, `3`, and `5` with the material names `vacuum`, `clad`, `moderator` respectively."
   ]
  },
  {
   "cell_type": "code",
   "execution_count": 49,
   "metadata": {},
   "outputs": [
    {
     "name": "stdout",
     "output_type": "stream",
     "text": [
      "Added Volume 1 to block 1\n",
      "Added Volume 2 to block 2\n",
      "Added Volume 3 to block 3\n",
      "Added Volume 4 to block 4\n",
      "\n",
      "\n",
      "Created material 1.\n",
      "\n",
      "\n",
      "\n",
      "\n",
      "Created material 2.\n",
      "\n",
      "\n",
      "\n",
      "\n",
      "Created material 3.\n",
      "\n",
      "\n",
      "\n",
      "\n",
      "Created material 4.\n",
      "\n",
      "\n"
     ]
    },
    {
     "data": {
      "text/plain": [
       "True"
      ]
     },
     "execution_count": 49,
     "metadata": {},
     "output_type": "execute_result"
    }
   ],
   "source": [
    "cubit.cmd( \"create block 1\" )\n",
    "cubit.cmd( \"block 1 add volume 1\" )\n",
    "cubit.cmd( \"create block 2\" )\n",
    "cubit.cmd( \"block 2 add volume 2\" )\n",
    "cubit.cmd( \"create block 3\" )\n",
    "cubit.cmd( \"block 3 add volume 3\" )\n",
    "cubit.cmd( \"create block 4\" )\n",
    "cubit.cmd( \"block 4 add volume 4\" )\n",
    "\n",
    "cubit.cmd( \"create material 1 name 'fuel'\" )\n",
    "cubit.cmd( \"create material 2 name 'vacuum'\" )\n",
    "cubit.cmd( \"create material 3 name 'clad'\" )\n",
    "cubit.cmd( \"create material 4 name 'moderator'\" )\n",
    "\n",
    "cubit.cmd( \"block 1 material 'fuel'\" )\n",
    "cubit.cmd( \"block 2 material 'vacuum'\" )\n",
    "cubit.cmd( \"block 3 material 'clad'\" )\n",
    "cubit.cmd( \"block 4 material 'moderator'\" )"
   ]
  },
  {
   "cell_type": "markdown",
   "metadata": {},
   "source": [
    "\n",
    "For this simple model, that’s all there is to material assignments. Now on to boundary conditions. The method for implementing boundary conditions is dependent on the Monte Carlo code the model will be used with. DAGMC models sometimes have a \"graveyard\" volume surrounding all other volumes to capture and terminate all particles that reach it. We'll be building this model for use with OpenMC, which allows us to apply boundary conditions directly to surfaces rather than create a non-physical volume.\n",
    "\n",
    "```\n",
    "create sideset 1\n",
    "sideset 1 name 'boundary:reflecting'\n",
    "\n",
    "sideset 1 add surface 2 3 10 11 12 13 14 15\n",
    "sideset 1 add surface 6 7 8 9\n",
    "```\n",
    "\n",
    "To model an infinite sea of pincells, we’ll apply reflecting boundary conditions to all exterior surfaces of the model. This will be modeled as an infinite sea of pincells in the Monte Carlo code allowing us to compute what is known as \"K-inf\" --- the neutron multiplication factor without particle leakage due to geometry boundaries.\n",
    "\n",
    "More details on code-specific steps for creating DAGMC models can be found [here](http://svalinn.github.io/DAGMC/usersguide/codes/index.html)."
   ]
  },
  {
   "cell_type": "code",
   "execution_count": 50,
   "metadata": {},
   "outputs": [
    {
     "name": "stdout",
     "output_type": "stream",
     "text": [
      "Set name of sideset 1 to \"boundary:reflecting\"\n",
      "Added Surface 2 to sideset 1\n",
      "Added Surface 3 to sideset 1\n",
      "Added Surface 10 to sideset 1\n",
      "Added Surface 11 to sideset 1\n",
      "Added Surface 12 to sideset 1\n",
      "Added Surface 13 to sideset 1\n",
      "Added Surface 14 to sideset 1\n",
      "Added Surface 15 to sideset 1\n",
      "Added Surface 6 to sideset 1\n",
      "Added Surface 7 to sideset 1\n",
      "Added Surface 8 to sideset 1\n",
      "Added Surface 9 to sideset 1\n"
     ]
    },
    {
     "data": {
      "text/plain": [
       "True"
      ]
     },
     "execution_count": 50,
     "metadata": {},
     "output_type": "execute_result"
    }
   ],
   "source": [
    "cubit.cmd( \"create sideset 1\" )\n",
    "cubit.cmd( \"sideset 1 name 'boundary:reflecting\" )\n",
    "cubit.cmd( \"sideset 1 add surface 2 3 10 11 12 13 14 15\" )\n",
    "cubit.cmd( \"sideset 1 add surface 6 7 8 9\" )"
   ]
  },
  {
   "cell_type": "markdown",
   "metadata": {},
   "source": [
    "\n",
    "## Meshing the Model\n",
    "\n",
    "Now that we’re sure the geometry is correct and we’ve assigned our boundary conditions, we can mesh the model. We’ll use the new coarse mesh settings in the surface trimesher to do so.\n",
    "\n",
    "1. Select `Mesh` -> `Surface` -> `Mesh` -> `Trimesh` in the command panel\n",
    "\n",
    "<img src=\"./images/command_panel_where_trimesh.png\" width=300>\n",
    "\n",
    "2. Then enter `all` into the `Select Surfaces` pickwidget and check the box next to `Coarse Mesh Settings`\n",
    "\n",
    "<img src=\"./images/pwr_trimesh_command_panel_settings.png\" width=300>"
   ]
  },
  {
   "cell_type": "code",
   "execution_count": 51,
   "metadata": {},
   "outputs": [
    {
     "name": "stdout",
     "output_type": "stream",
     "text": [
      "Calculating Auto Size\n",
      "0   |    |    |    |    50   |    |    |    |  100\n",
      "**************************************************\n",
      "Matching intervals successful.\n",
      "Begin tri meshing 15 surfaces 1 to 15\n",
      "Meshing surfaces\n",
      "0   |    |    |    |    50   |    |    |    |  100\n",
      "*"
     ]
    },
    {
     "name": "stdout",
     "output_type": "stream",
     "text": [
      "************************************************\n",
      "Completed tri meshing 15 surfaces with 847 tris\n",
      "Surfaces 1 to 15 meshing completed using scheme: trimesh\n",
      "Generated 847 tris\n"
     ]
    },
    {
     "data": {
      "text/plain": [
       "True"
      ]
     },
     "execution_count": 51,
     "metadata": {},
     "output_type": "execute_result"
    }
   ],
   "source": [
    "cubit.cmd( \"set trimesher coarse on ratio 100 angle 5\" )\n",
    "cubit.cmd( \"surface all scheme trimesh\" )\n",
    "cubit.cmd( \"mesh surface all\" )"
   ]
  },
  {
   "cell_type": "code",
   "execution_count": 52,
   "metadata": {},
   "outputs": [
    {
     "data": {
      "text/plain": [
       "True"
      ]
     },
     "execution_count": 52,
     "metadata": {},
     "output_type": "execute_result"
    }
   ],
   "source": [
    "\n",
    "cubit.cmd( \"surf all visibility on\")\n",
    "cubit.cmd( f\"hardcopy '{os.path.join( os.getcwd(), 'images', 'pwr_mesh_overview.png' )}' png window 2\" )\n",
    "cubit.cmd( \"draw vol 1\" )\n",
    "cubit.cmd( f\"hardcopy '{os.path.join( os.getcwd(), 'images', 'pwr_mesh_fuel.png' )}' png window 2\" )"
   ]
  },
  {
   "cell_type": "markdown",
   "metadata": {},
   "source": [
    "\n",
    "3. Finally, click the `Mesh` button. The resulting mesh should look similar to the mesh in the images below.\n",
    "\n",
    "<img src=\"./images/pwr_mesh_overview.png\" width=600>\n",
    "\n",
    "<img src=\"./images/pwr_mesh_fuel.png\" width=600>\n"
   ]
  },
  {
   "cell_type": "markdown",
   "metadata": {},
   "source": [
    "\n",
    "## Exporting the Model\n",
    "\n",
    "Finally, we’ll export the DAGMC model. To do so, select `File` -> `Export...` in the file menu, then select the `DAGMC (*.h5m)` filetype, and then enter the file name you’d like to use.\n",
    "\n",
    "<img src=\"./images/pwr_save_dagmc.png\" width=600>\n",
    "\n",
    "\n",
    "This can also be accomplished using the `dagmc` filetype in the `export` command:\n",
    "\n",
    "```\n",
    "export dagmc \"pwr_fuel_pin.h5m\"\n",
    "```\n",
    "\n",
    "The resulting file can now be applied in a particle transport simulation using DAGMC geometry."
   ]
  },
  {
   "cell_type": "code",
   "execution_count": 53,
   "metadata": {},
   "outputs": [
    {
     "name": "stdout",
     "output_type": "stream",
     "text": [
      "Found 14 entities of dimension 0\n",
      "Found 18 entities of dimension 1\n",
      "Found 15 entities of dimension 2\n",
      "Found 4 entities of dimension 3\n"
     ]
    },
    {
     "data": {
      "text/plain": [
       "True"
      ]
     },
     "execution_count": 53,
     "metadata": {},
     "output_type": "execute_result"
    }
   ],
   "source": [
    "cubit.cmd( \"export dagmc 'pwr_fuel_pin.h5m' overwrite\" )"
   ]
  },
  {
   "cell_type": "markdown",
   "metadata": {},
   "source": [
    "\n",
    "# Tokamak model\n",
    "\n",
    "In this section, we’ll look at a tokamak model generated using the [Paramak](https://paramak.readthedocs.io/en/main/) tool for tokamak design. This model contains higher order surfaces that may be challenging to otherwise model using the native constructive solid geometry (CSG) engines provided by most particle transport codes.\n",
    "\n",
    "Select `File` -> `Open` and choose the `tokamak_w_mats.cub5` file provided below. "
   ]
  },
  {
   "cell_type": "code",
   "execution_count": 54,
   "metadata": {},
   "outputs": [
    {
     "name": "stdout",
     "output_type": "stream",
     "text": [
      "...deleting 847 tris from database...\n",
      "...deleting 1161 edges from database...\n",
      "...deleting 316 nodes from database...\n",
      "Geometry engine set to: ACIS Version 33.0.0.0\n",
      "Geometry engine set to: ACIS Version 33.0.0.0\n",
      "Read 16 ACIS Entities from the input file\n",
      "Progress\n",
      "Processing 16 ACIS Entities\n",
      "0   |    |    |    |    50   |    |    |    |  100\n",
      "**************************************************\n",
      "\n",
      "Progress\n",
      "Building 16 CUBIT Entities\n",
      "0   |    |    |    |    50   |    |    |    |  100\n",
      "**************************************************\n",
      "\n",
      "Constructed 16 Volumes: 1 to 16\n",
      "WARNING: 16 invalid names were found during import.\n",
      "\n",
      "Geometry engine set to: ACIS Version 33.0.0.0\n",
      "Successfully opened CUBIT file './files/tokamak.cub5'\n"
     ]
    },
    {
     "data": {
      "text/plain": [
       "True"
      ]
     },
     "execution_count": 54,
     "metadata": {},
     "output_type": "execute_result"
    }
   ],
   "source": [
    "cubit.cmd( \"reset\" )\n",
    "cubit.cmd( \"open './files/tokamak.cub5'\" )"
   ]
  },
  {
   "cell_type": "code",
   "execution_count": 55,
   "metadata": {},
   "outputs": [
    {
     "data": {
      "text/plain": [
       "True"
      ]
     },
     "execution_count": 55,
     "metadata": {},
     "output_type": "execute_result"
    }
   ],
   "source": [
    "cubit.cmd( \"graphics perspective off\" )\n",
    "cubit.cmd( \"graphics parallel scale  796.92089\" )\n",
    "cubit.cmd( \"from  1420.9563 -3228.8524   1668.639\" )\n",
    "cubit.cmd( \"at   -92.083092  311.58432 -42.365141\" )\n",
    "cubit.cmd( \"up   -0.15198041  0.37666499  0.91379727\" )\n",
    "\n",
    "cubit.cmd( f\"hardcopy '{os.path.join( os.getcwd(), 'images', 'tokamak_geometry_overview.png' )}' png window 2\" )"
   ]
  },
  {
   "cell_type": "markdown",
   "metadata": {},
   "source": [
    "The following model should appear:\n",
    "\n",
    "<img src=\"./images/tokamak_geometry_overview.png\" width=600>\n",
    "\n",
    "Materials have already been added to this model, so we don’t need to repeat that process:\n",
    "\n",
    "<img src=\"./images/tokamak_model_tree_materials.png\" width=300>"
   ]
  },
  {
   "cell_type": "markdown",
   "metadata": {},
   "source": [
    "\n",
    "## Imprinting and merging\n",
    "This model does need some additional work, however. Let’s take a closer look at the surfaces of volumes `3` and `7`. \n",
    "\n",
    "```\n",
    "draw vol 3 7\n",
    "graphics mode transparent\n",
    "```"
   ]
  },
  {
   "cell_type": "code",
   "execution_count": 56,
   "metadata": {},
   "outputs": [
    {
     "data": {
      "text/plain": [
       "True"
      ]
     },
     "execution_count": 56,
     "metadata": {},
     "output_type": "execute_result"
    }
   ],
   "source": [
    "cubit.cmd( \"draw vol 3 7\" )\n",
    "cubit.cmd( \"graphics mode transparent\" )"
   ]
  },
  {
   "cell_type": "code",
   "execution_count": 57,
   "metadata": {},
   "outputs": [
    {
     "data": {
      "text/plain": [
       "True"
      ]
     },
     "execution_count": 57,
     "metadata": {},
     "output_type": "execute_result"
    }
   ],
   "source": [
    "cubit.cmd( \"from  3190.5998    -2173.531  1818.3984\" )\n",
    "cubit.cmd( \"at    -345.81134   264.83695  161.32015\" )\n",
    "cubit.cmd( \"up    -0.30323586  0.19420683 0.93291571\" )\n",
    "cubit.cmd( \"zoom reset\" )\n",
    "cubit.cmd( f\"hardcopy '{os.path.join( os.getcwd(), 'images', 'tokamak_geometry_vol_3_7_detail.png' )}' png window 2\" )"
   ]
  },
  {
   "cell_type": "markdown",
   "metadata": {},
   "source": [
    "\n",
    "<img src=\"./images/tokamak_geometry_vol_3_7_detail.png\" width=600>\n",
    "\n",
    "The model tree shows that these two do not share surfaces. Without imprinting and merging, particles will exit `volume 3` (purple) crossing `surface 41` and enter a space between volumes known as the *implicit complement* before entering `volume 7` through `surface 111`. The implicit complement is a logical volume built by DAGMC that occupies all undefined space in the CAD model. In artistic terms it is the \"negative\" of the CAD bodies. Because the implicit complement is based purely on the topology of the model and surfaces `41` and `111` only have a volume on one side according to the topology, the implicit complement occupies the logical space between these surfaces."
   ]
  },
  {
   "cell_type": "code",
   "execution_count": 58,
   "metadata": {},
   "outputs": [
    {
     "data": {
      "text/plain": [
       "True"
      ]
     },
     "execution_count": 58,
     "metadata": {},
     "output_type": "execute_result"
    }
   ],
   "source": [
    "cubit.cmd( \"graphics mode smoothshade\" )\n",
    "cubit.cmd( \"draw surface 41 111\" )\n",
    "cubit.cmd( \"locate surface 41 111\")\n",
    "cubit.cmd( f\"hardcopy '{os.path.join( os.getcwd(), 'images', 'tokamak_geometry_vol_3_7_surface_detail.png' )}' png window 2\" )\n"
   ]
  },
  {
   "cell_type": "markdown",
   "metadata": {},
   "source": [
    "\n",
    "<img src=\"./images/tokamak_geometry_vol_3_7_surface_detail.png\" width=600>\n",
    "\n",
    "To build a robust DAGMC model, we’ll need to imprint and merge these surfaces. This will result in a single, shared surface between volumes `3` and `7` where they meet. The model topology in the DAGMC file will indicate that `volume 3` is on one side of this surface and `volume 7` on the other. This will allow particles to pass between the volumes efficiently and robustly during simulation without entering the implicit complement.\n",
    "\n",
    "First, we’ll tackle imprinting and merging the surfaces. To imprint the model, we will run\n",
    "\n",
    "```\n",
    "imprint volume 3 7\n",
    "```"
   ]
  },
  {
   "cell_type": "code",
   "execution_count": 59,
   "metadata": {},
   "outputs": [
    {
     "name": "stdout",
     "output_type": "stream",
     "text": [
      "Group imprint finished.\n",
      "Updated volume(s): 3\n",
      "IMPRINT completed.\n"
     ]
    },
    {
     "data": {
      "text/plain": [
       "True"
      ]
     },
     "execution_count": 59,
     "metadata": {},
     "output_type": "execute_result"
    }
   ],
   "source": [
    "cubit.cmd( \"imprint volume 3 7\" )"
   ]
  },
  {
   "cell_type": "code",
   "execution_count": 60,
   "metadata": {},
   "outputs": [
    {
     "data": {
      "text/plain": [
       "True"
      ]
     },
     "execution_count": 60,
     "metadata": {},
     "output_type": "execute_result"
    }
   ],
   "source": [
    "cubit.cmd( \"display\" )\n",
    "cubit.cmd( \"draw surface 41 118 119 120\" )\n",
    "cubit.cmd( \"zoom reset\" )\n",
    "cubit.cmd( \"locate surface 41 118 119 120\" )\n",
    "cubit.cmd( f\"hardcopy '{os.path.join( os.getcwd(), 'images', 'tokamak_geometry_vol_3_7_surface_imprint_detail.png' )}' png window 2\" )\n"
   ]
  },
  {
   "cell_type": "markdown",
   "metadata": {},
   "source": [
    "\n",
    "<img src=\"./images/tokamak_geometry_vol_3_7_surface_imprint_detail.png\" width=600>\n",
    "\n",
    "The imprint command creates new surfaces. If we `locate` the new surfaces in `volume 3` we see that one of its new surfaces,`surface 119`, corresponds to `surface 41` of `volume 7`.\n",
    "\n",
    "Surfaces `119` and `41` are still separate surfaces, however. Were we to mesh and export a DAGMC model at this point, particles would still move from `volume 3` to `volume 7` through the implicit complement. To create a single, shared surface we’ll merge the surfaces of volumes `3` and `7`:\n",
    "\n",
    "```\n",
    "merge volume 3 7\n",
    "```"
   ]
  },
  {
   "cell_type": "code",
   "execution_count": 61,
   "metadata": {},
   "outputs": [
    {
     "name": "stdout",
     "output_type": "stream",
     "text": [
      "Comparing Surfaces:\n",
      "Comparing 14 Surfaces for Merge\n",
      "0   |    |    |    |    50   |    |    |    |  100\n",
      "**************************************************\n",
      "Consolidated 1 pair of surfaces\n",
      "Comparing Curves:\n",
      "Comparing 30 Curves for Merge\n",
      "0   |    |    |    |    50   |    |    |    |  100\n",
      "**************************************************\n",
      "Consolidated 0 pair of curves \n",
      "Consolidated 0 pairs of vertices\n"
     ]
    },
    {
     "data": {
      "text/plain": [
       "True"
      ]
     },
     "execution_count": 61,
     "metadata": {},
     "output_type": "execute_result"
    }
   ],
   "source": [
    "cubit.cmd( \"merge volume 3 7\" )"
   ]
  },
  {
   "cell_type": "code",
   "execution_count": 62,
   "metadata": {},
   "outputs": [
    {
     "data": {
      "text/plain": [
       "True"
      ]
     },
     "execution_count": 62,
     "metadata": {},
     "output_type": "execute_result"
    }
   ],
   "source": [
    "cubit.cmd( \"display\" )\n",
    "cubit.cmd( \"draw surface 118 120 41\" )\n",
    "cubit.cmd( \"zoom reset\" )\n",
    "cubit.cmd( \"locate surface 118 120 41\" )\n",
    "cubit.cmd( f\"hardcopy '{os.path.join( os.getcwd(), 'images', 'tokamak_geometry_vol_3_7_surface_imprint_merge_detail.png' )}' png window 2\" )"
   ]
  },
  {
   "cell_type": "markdown",
   "metadata": {},
   "source": [
    "\n",
    "\n",
    "<img src=\"./images/tokamak_geometry_vol_3_7_surface_imprint_merge_detail.png\" width=600>\n",
    "\n",
    "Once this step is complete `surface 42` is now present in both volumes.\n",
    "\n",
    "To create a fully robust model we’ll perform this operation for the entire model with the following commands\n",
    "\n",
    "```\n",
    "imprint all\n",
    "merge all\n",
    "```\n"
   ]
  },
  {
   "cell_type": "code",
   "execution_count": 63,
   "metadata": {},
   "outputs": [
    {
     "name": "stdout",
     "output_type": "stream",
     "text": [
      "Imprinting 16 ACIS Bodies\n",
      "0   |    |    |    |    50   |    |    |    |  100\n",
      "*"
     ]
    },
    {
     "name": "stdout",
     "output_type": "stream",
     "text": [
      "*************************************************\n",
      "Group imprint finished.\n",
      "Updated volume(s): 3, 7, 8, 14, 15\n",
      "IMPRINT completed.\n",
      "\n",
      "...Merging all features in the model\n",
      "\n",
      "...Merging all Surfaces in the model\n",
      "Comparing Surfaces:\n",
      "Comparing 128 Surfaces for Merge\n",
      "0   |    |    |    |    50   |    |    |    |  100\n",
      "**************************************************\n",
      "Consolidated 32 pairs of surfaces\n",
      "\n",
      "...Merging all Curves in the model\n",
      "Comparing Curves:\n",
      "Comparing 183 Curves for Merge\n",
      "0   |    |    |    |    50   |    |    |    |  100\n",
      "**************************************************\n",
      "Consolidated 0 pair of curves \n",
      "\n",
      "...Merging all Vertices in the model\n",
      "Consolidated 0 pairs of vertices\n",
      "All detected matches successfully merged\n"
     ]
    },
    {
     "data": {
      "text/plain": [
       "True"
      ]
     },
     "execution_count": 63,
     "metadata": {},
     "output_type": "execute_result"
    }
   ],
   "source": [
    "cubit.cmd( \"imprint all\" )\n",
    "cubit.cmd( \"merge all\" )"
   ]
  },
  {
   "cell_type": "code",
   "execution_count": 64,
   "metadata": {},
   "outputs": [
    {
     "data": {
      "text/plain": [
       "True"
      ]
     },
     "execution_count": 64,
     "metadata": {},
     "output_type": "execute_result"
    }
   ],
   "source": [
    "cubit.cmd( \"display\" )\n",
    "cubit.cmd( \"draw surf all with is_merged\" )\n",
    "cubit.cmd( \"draw curve all add\" )\n",
    "cubit.cmd( \"color curve all black\" )\n",
    "cubit.cmd( \"color curve all in surface with is_merged white\" )\n",
    "cubit.cmd( \"zoom reset\" )\n",
    "cubit.cmd( f\"hardcopy '{os.path.join( os.getcwd(), 'images', 'tokamak_geometry_merged_surfaces.png' )}' png window 2\" )"
   ]
  },
  {
   "cell_type": "markdown",
   "metadata": {},
   "source": [
    "<img src=\"./images/tokamak_geometry_merged_surfaces.png\" width=600>\n"
   ]
  },
  {
   "cell_type": "markdown",
   "metadata": {},
   "source": [
    "\n",
    "Now that this is complete we can mesh the model as before and export a DAGMC file\n",
    "\n",
    "```\n",
    "set trimesher coarse on ratio 100 angle 5\n",
    "surface all scheme trimesh\n",
    "mesh surface all\n",
    "\n",
    "export dagmc \"paramak.h5m\"\n",
    "```"
   ]
  },
  {
   "cell_type": "code",
   "execution_count": 65,
   "metadata": {},
   "outputs": [
    {
     "name": "stdout",
     "output_type": "stream",
     "text": [
      "Matching intervals successful.\n",
      "Begin tri meshing 96 surfaces 1 to 11, 13 to 20, 22 to 26, 28 to 80, 85 to 87,\n",
      "   93 to 95, 101 to 106, 120, 121, 123, 130, 133, 134, 137\n",
      "Meshing surfaces\n",
      "0   |    |    |    |    50   |    |    |    |  100\n",
      "*************************************************\n",
      "Meshing surfaces\n",
      "0   |    |    |    |    50   |    |    |    |  100\n",
      "*************************************************\n",
      "Meshing surfaces\n",
      "0   |    |    |    |    50   |    |    |    |  100\n",
      "*************************************************\n",
      "Meshing surfaces\n",
      "0   |    |    |    |    50   |    |    |    |  100\n",
      "*************************************************\n",
      "Completed tri meshing 96 surfaces with 7071 tris\n",
      "Surfaces 1 to 11, 13 to 20, 22 to 26, 28 to 80, 85 to 87, 93 to 95, 101 to 106,\n",
      "   120, 121, 123, 130, 133, 134, 137 meshing completed using scheme: trimesh\n",
      "Generated 7071 tris\n",
      "Found 110 entities of dimension 0\n",
      "Found 183 entities of dimension 1\n",
      "Found 96 entities of dimension 2\n",
      "Found 16 entities of dimension 3\n"
     ]
    },
    {
     "data": {
      "text/plain": [
       "True"
      ]
     },
     "execution_count": 65,
     "metadata": {},
     "output_type": "execute_result"
    }
   ],
   "source": [
    "cubit.cmd( \"set trimesher coarse on ratio 100 angle 5\" )\n",
    "cubit.cmd( \"surface all scheme trimesh\" )\n",
    "cubit.cmd( \"mesh surface all\" )\n",
    "\n",
    "cubit.cmd( \"export dagmc 'paramak.h5m'\" )"
   ]
  },
  {
   "cell_type": "code",
   "execution_count": 66,
   "metadata": {},
   "outputs": [
    {
     "data": {
      "text/plain": [
       "True"
      ]
     },
     "execution_count": 66,
     "metadata": {},
     "output_type": "execute_result"
    }
   ],
   "source": [
    "cubit.cmd( \"display\" )\n",
    "cubit.cmd( \"color curve all black\" )\n",
    "cubit.cmd( \"graphics perspective off\" )\n",
    "cubit.cmd( \"graphics parallel scale  796.92089\" )\n",
    "cubit.cmd( \"from  1420.9563 -3228.8524   1668.639\" )\n",
    "cubit.cmd( \"at   -92.083092  311.58432 -42.365141\" )\n",
    "cubit.cmd( \"up   -0.15198041  0.37666499  0.91379727\" )\n",
    "cubit.cmd( \"zoom reset\" )\n",
    "cubit.cmd( f\"hardcopy '{os.path.join( os.getcwd(), 'images', 'tokamak_mesh_overview.png' )}' png window 2\" )"
   ]
  },
  {
   "cell_type": "markdown",
   "metadata": {},
   "source": [
    "<img src=\"./images/tokamak_mesh_overview.png\" width=600>\n"
   ]
  }
 ],
 "metadata": {
  "kernelspec": {
   "display_name": "Python 3",
   "language": "python",
   "name": "python3"
  },
  "language_info": {
   "codemirror_mode": {
    "name": "ipython",
    "version": 3
   },
   "file_extension": ".py",
   "mimetype": "text/x-python",
   "name": "python",
   "nbconvert_exporter": "python",
   "pygments_lexer": "ipython3",
   "version": "3.10.8"
  }
 },
 "nbformat": 4,
 "nbformat_minor": 2
}
